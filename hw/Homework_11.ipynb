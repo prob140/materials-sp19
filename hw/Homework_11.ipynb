{
 "cells": [
  {
   "cell_type": "markdown",
   "metadata": {},
   "source": [
    "<table align=\"left\" style=\"border-style: hidden\" class=\"table\"> <tr><td class=\"col-md-2\"><img style=\"float\" src=\"http://prob140.org/assets/icon256.png\" alt=\"Prob140 Logo\" style=\"width: 120px;\"/></td><td><div align=\"left\"><h3 style=\"margin-top: 0;\">Probability for Data Science</h3><h4 style=\"margin-top: 20px;\">UC Berkeley, Spring 2019</h4><p>Ani Adhikari and Jim Pitman</p>CC BY-NC 4.0</div></td></tr></table><!-- not in pdf -->"
   ]
  },
  {
   "cell_type": "code",
   "execution_count": null,
   "metadata": {
    "#solution": false,
    "#staff": false,
    "#student": false
   },
   "outputs": [],
   "source": [
    "# HIDDEN\n",
    "from datascience import *\n",
    "from prob140 import *\n",
    "import numpy as np\n",
    "import matplotlib.pyplot as plt\n",
    "plt.style.use('fivethirtyeight')\n",
    "%matplotlib inline\n",
    "from scipy import stats"
   ]
  },
  {
   "cell_type": "markdown",
   "metadata": {
    "#solution": false,
    "#staff": false,
    "#student": false
   },
   "source": [
    "# Homework 11 #\n",
    "\n",
    "### Instructions\n",
    "\n",
    "Your homeworks have two components: a written portion and a portion that also involves code.  Written work should be completed on paper, and coding questions should be done in the notebook.  You are welcome to LaTeX your answers to the written portions, but staff will not be able to assist you with LaTeX related issues. It is your responsibility to ensure that both components of the homework are submitted completely and properly to Gradescope. Refer to the bottom of the notebook for submission instructions."
   ]
  },
  {
   "cell_type": "markdown",
   "metadata": {
    "#solution": false,
    "#staff": false,
    "#student": false
   },
   "source": [
    "### 1. Sections ###\n",
    "A class of 60 students has three sections. Summary statistics for scores on Quiz 7:\n",
    "- Section 1: 25 students, mean 23, SD 3\n",
    "- Section 2: 20 students, mean 25, SD 2 \n",
    "- Section 3: 15 students, mean 27, SD 4\n",
    "\n",
    "Let $S$ be the Quiz 7 score of a student picked at random from the class. Use the code cell below to calculate numerical answers for parts a and b.\n",
    "\n",
    "**a)** Find $E(S)$.\n",
    "\n",
    "**b)** Find $SD(S)$."
   ]
  },
  {
   "cell_type": "code",
   "execution_count": null,
   "metadata": {
    "#solution": false,
    "#staff": false,
    "#student": true
   },
   "outputs": [],
   "source": [
    "#calculation for 1a\n",
    "..."
   ]
  },
  {
   "cell_type": "code",
   "execution_count": null,
   "metadata": {
    "#solution": false,
    "#staff": false,
    "#student": true
   },
   "outputs": [],
   "source": [
    "#calculation for 1b\n",
    "..."
   ]
  },
  {
   "cell_type": "markdown",
   "metadata": {
    "#solution": false,
    "#staff": false,
    "#student": false
   },
   "source": [
    "### 2. Uniform Stick-Breaking ###\n",
    "A point $X$ is chosen uniformly from the interval $(0, 10)$ and then a point $Y$ is chosen uniformly from the interval $(0, X)$. This can be imagined as snapping a stick of length 10 and then snapping one of the broken bits. [Stick-breaking](https://en.wikipedia.org/wiki/Dirichlet_process#The_stick-breaking_process) processes are related to the Chinese Restaurant process.\n",
    "\n",
    "**a)** Find $E(X)$ and $Var(X)$. See [Section 15.3](http://prob140.org/textbook/chapters/Chapter_15/03_Expectation) of the textbook for the variance of the uniform.\n",
    "\n",
    "**b)** Find $E(Y)$ and $Var(Y)$ by conditioning on $X$."
   ]
  },
  {
   "cell_type": "markdown",
   "metadata": {
    "#solution": false,
    "#staff": false,
    "#student": false
   },
   "source": [
    "### 3. Correlation ###\n",
    "The covariance of random variables $X$ and $Y$ has nasty units: the product of the units of $X$ and the units of $Y$. Dividing the covariance by the two SDs results in an important pure number.\n",
    "\n",
    "The *correlation coefficient* between random variables $X$ and $Y$ is defined as\n",
    "\n",
    "$$\n",
    "r(X, Y) ~ = \\frac{Cov(X, Y)}{SD(X)SD(Y)}\n",
    "$$\n",
    "\n",
    "It is called the correlation, for short. The definition explains why $X$ and $Y$ are called *uncorrelated* if $Cov(X, Y) = 0$.\n",
    "\n",
    "**a)** Let $X^*$ be $X$ in standard units and let $Y^*$ be $Y$ in standard units. Check that\n",
    "\n",
    "$$\n",
    "r(X, Y) = E(X^*Y^*)\n",
    "$$\n",
    "\n",
    "This is the random variable version of the Data 8 definition of the correlation between two data variables: convert each variable to standard units; multiply each pair; take the mean of the products.\n",
    "\n",
    "**b)** Use the fact that $(X^* + Y^*)^2$ and $(X^* - Y^*)^2$ are non-negative random variables to show that $-1 \\le r(X, Y) \\le 1$.\n",
    "\n",
    "[First find the numerical values of $E(X^*)$ and $E({X^*}^2)$. Then find $E(X^* + Y^*)^2$.]\n",
    "\n",
    "**c)** Show that if $Y = aX+b$ where $a \\ne 0$, then $r(X, Y)$ is 1 or $-1$ depending on whether the sign of $a$ is positive or negative.\n",
    "\n",
    "**d)** Consider a sequence of i.i.d. Bernoulli $(p)$ trials. For any positive integer $k$ let $X_k$ be the number of successes in trials 1 through $k$. **Use bilinearity** to find $Cov(X_n, X_{n+m})$ and hence find $r(X_n, X_{n+m})$.\n",
    "\n",
    "**e)** Fix $n$ and find the limit of your answer to **c** as $m \\to \\infty$. Explain why the limit is consistent with intuition."
   ]
  },
  {
   "cell_type": "markdown",
   "metadata": {
    "#solution": false,
    "#staff": false,
    "#student": false
   },
   "source": [
    "### 4. Overlapping Counts ###\n",
    "Consider a sequence of i.i.d. Bernoulli $(p)$ trials. Consider the three variables $X$, $Y$, and $V$ defined by:\n",
    "\n",
    "- $X$ is the number of successes in trials 1 through 100\n",
    "- $Y$ is the number of successes in trials 51 through 100\n",
    "- $V$ is the number of successes in trials 51 through 150\n",
    "\n",
    "**a)** For each of $X$, $Y$, and $V$, say what the distribution is and provide the parameters.\n",
    "\n",
    "**b)** Fix $k$ in the range $0, 1, \\ldots, 100$ and find the conditional distribution of $Y$ given $X = k$. Recognize this as a famous one and provide the parameters.\n",
    "\n",
    "**c)** Find the least squares predictor of $Y$ based on $X$ and say whether it is a linear function of $X$. (If it is, then the best linear predictor is in fact the best among all predictors.) Find $Var(Y \\mid X)$.\n",
    "\n",
    "**d)** Find $E(V \\mid X)$, $Var(V \\mid X)$, and the correlation $r(X, V)$.\n",
    "\n",
    "**e)** Simulate 20,000 $(X, V)$ pairs and draw the scatter plot of the observed points. Plot $E(V \\mid X)$ as a function of $X$ on the same plot. Use the cell below. The arrays `x` and `v` should contain the observed values of $X$ and $V$. The array `exp_V_given_x` should contain $E(V \\mid X = x)$ for each $x$ in `x`, using the formula you derived in **d**."
   ]
  },
  {
   "cell_type": "code",
   "execution_count": null,
   "metadata": {
    "#solution": false,
    "#staff": false,
    "#student": true
   },
   "outputs": [],
   "source": [
    "#simulation for 4e\n",
    "\n",
    "...\n",
    "\n",
    "x = ...\n",
    "v = ...\n",
    "exp_V_given_x = ...\n",
    "\n",
    "# Don't change the lines below\n",
    "plt.figure(figsize=(6, 6))\n",
    "plt.axes().set_aspect('equal')\n",
    "plt.xticks(np.arange(30, 71, 10))\n",
    "plt.yticks(np.arange(30, 71, 10))\n",
    "plt.scatter(x, v, color='darkblue', s=10)\n",
    "plt.scatter(x, exp_V_given_x, color='gold', s=10);"
   ]
  },
  {
   "cell_type": "markdown",
   "metadata": {
    "#solution": false,
    "#staff": false,
    "#student": false
   },
   "source": [
    "Complete the cell below so that the `x_su` is `x` in standard units, `v_su` is `v` in standard units, and the last line evaluates to the observed correlation between `x` and `v`. Check that the output is consistent with your calculation in **d**."
   ]
  },
  {
   "cell_type": "code",
   "execution_count": null,
   "metadata": {
    "#solution": false,
    "#staff": false,
    "#student": true
   },
   "outputs": [],
   "source": [
    "#4e continued\n",
    "\n",
    "x_su = ...\n",
    "v_su = ...\n",
    "..."
   ]
  },
  {
   "cell_type": "markdown",
   "metadata": {
    "#solution": false,
    "#staff": false,
    "#student": false
   },
   "source": [
    "### 5. Chinese Restaurant Process: Long Run Proportion at Table 1 ###\n",
    "The goal of this exercise is for you to explain a density that you observed at the end of Lab 10.\n",
    "\n",
    "Parts **a** and **b** are about the \"beta binomial\" process we studied extensively in class. You can just apply the results derived in class. You'll find them in Chapter 21 of the textbook.\n",
    "\n",
    "**a)** Define the \"Beta $(1, \\theta)$ Binomial\" process as follows:\n",
    "\n",
    "- $X$ has beta $(1, \\theta)$ distribution.\n",
    "- Given $X = p$, there is a sequence of i.i.d. Bernoulli $(p)$ trials $I_1, I_2, \\ldots $.\n",
    "- $S_n = I_1 + I_2 + \\cdots + I_n$ is the number of successes in the first $n$ trials.\n",
    "\n",
    "Fill in the blank with the name of a distribution and the appropriate parameters:\n",
    "\n",
    "As $n$ gets large, with probability 1 the proportion $\\frac{S_n}{n}$ approaches a limit. The distribution of this limit is $\\underline{~~~~~~~~~~~~~~~~~~~~~~~~~~~~~~~~~~~~}$.\n",
    "\n",
    "**b)** For the Beta $(1, \\theta)$ Binomial process, find the transition probability $P(S_n = k+1 \\mid S_{n-1} = k)$.\n",
    "\n",
    "Given $S_{n-1} = k$, what are the other possible values of $S_n$ and what are their probabilities?\n",
    "\n",
    "**c)** Now refer to Lab 10 for the description of Chinese Restaurant process with parameter $\\theta$. As in the lab, let $W_n$ be the number of people at Table 1 at time $n$. The goal is of this part of the exercise is to figure out the transition behavior of $W_n$.\n",
    "\n",
    "Because Table 1 starts deterministically with Person 1 at time 1, we have to be a bit careful about what's random and what's constant. Let's consider $V_n = W_n - 1$, the random number of people *other than Person 1* who are at Table 1 at time $n$.\n",
    "\n",
    "Find $P(V_{n+1} = k+1 \\mid V_n = k)$. This is a straightforward application of the rules of the Chinese Restaurant process, but you have to be careful about how many people are at Table 1 when Person $n+1$ enters the system.\n",
    "\n",
    "**d)** Given $V_n = k$, what are the possible values of $V_{n+1}$? Compare the transition behavior of the following two sequences:\n",
    "\n",
    "- $V_2, V_3, \\ldots $ of the Chinese Restaurant process with parameter $\\theta$\n",
    "- $S_1, S_2, \\ldots $ of the Beta $(1, \\theta)$ Binomial process\n",
    "\n",
    "Then explain why the distribution of the long run proportion of people at Table 1 of the Chinese Restaurant process is beta $(1, \\theta)$ where $\\theta$ is the parameter of the process. That is, recall that you saw in the lab that the paths of $\\frac{W_n}{n}$ converge as $n \\to \\infty$, and explain why the limit of $\\frac{W_n}{n}$ as $n \\to \\infty$ has the beta $(1, \\theta)$ distribution."
   ]
  },
  {
   "cell_type": "markdown",
   "metadata": {
    "#solution": false,
    "#staff": false,
    "#student": false
   },
   "source": [
    "## Submission Instructions ##\n",
    "\n",
    "Many assignments throughout the course will have a written portion and a code portion. Please follow the directions below to properly submit both portions.\n",
    "\n",
    "### Written Portion ###\n",
    "*  Scan all the pages into a PDF. You can use any scanner or a phone using applications such as CamScanner. Please **DO NOT** simply take pictures using your phone. \n",
    "* Please start a new page for each question. If you have already written multiple questions on the same page, you can crop the image in CamScanner or fold your page over (the old-fashioned way). This helps expedite grading.\n",
    "* It is your responsibility to check that all the work on all the scanned pages is legible.\n",
    "\n",
    "### Code Portion ###\n",
    "* **Save your notebook using File > Save and Checkpoint.**\n",
    "* Run the cell below to generate a PDF file.\n",
    "* Download the PDF file and confirm that none of your work is missing or cut off.  If the link leads you to a blank page, use [Command]+[S] or [Ctrl]+[S] to download your work.  \n",
    "\n",
    "### Submitting ###\n",
    "* Combine the PDFs from the written and code portions into one PDF.  [Here](https://smallpdf.com/merge-pdf) is a useful tool for doing so.  \n",
    "* Submit the assignment to Homework 11 on Gradescope.\n",
    "* **Make sure to assign each page of your pdf to the correct question.**\n",
    "\n",
    "\n",
    "### **We will not grade assignments which do not have pages selected for each question or were submitted after the deadline.** "
   ]
  },
  {
   "cell_type": "code",
   "execution_count": null,
   "metadata": {
    "#solution": false,
    "#staff": false,
    "#student": false
   },
   "outputs": [],
   "source": [
    "import gsExport\n",
    "gsExport.generateSubmission(\"Homework_11.ipynb\")"
   ]
  }
 ],
 "metadata": {
  "anaconda-cloud": {},
  "checksums": [
   "36d6125272e38841d377985b31e7a672",
   "e4165fd843ccc0629304d5b40941dac6",
   "07012afe11d58025248e5b774277d29c",
   "a6ab2904b9e5714a3a9445b3fde404b5",
   "09bbfcbb51e290d312b86bb3de827883",
   "bad20925fbb10c36941bf7e7c5c2afbf",
   "d60a94b9b5514767cd0c75ff8f68c51a",
   "ec3a10d77f0cce9c347dcba96fbccd21",
   "caf126c41aa5325768a24a303cfdb6c6",
   "f139c5e2d6d3c9730ca4e70603e746e8",
   "5159b8a527e9201b9e5d31a96708903d",
   "276dbdb27c87a0d34559789dbb106063",
   "04e3c5867e3251a7fa8ad815994346bc",
   "c1970adb2c6fc60ef161146d9f4cda98",
   "3c765c04ea8c9136b3ac2e6867445a62"
  ],
  "kernelspec": {
   "display_name": "Python 3",
   "language": "python",
   "name": "python3"
  },
  "language_info": {
   "codemirror_mode": {
    "name": "ipython",
    "version": 3
   },
   "file_extension": ".py",
   "mimetype": "text/x-python",
   "name": "python",
   "nbconvert_exporter": "python",
   "pygments_lexer": "ipython3",
   "version": "3.6.0"
  },
  "number_of_pagebreaks": 0
 },
 "nbformat": 4,
 "nbformat_minor": 2
}
