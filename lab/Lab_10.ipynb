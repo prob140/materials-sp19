{
 "cells": [
  {
   "cell_type": "markdown",
   "metadata": {},
   "source": [
    "<table align=\"left\" style=\"border-style: hidden\" class=\"table\"> <tr><td class=\"col-md-2\"><img style=\"float\" src=\"http://prob140.org/assets/icon256.png\" alt=\"Prob140 Logo\" style=\"width: 120px;\"/></td><td><div align=\"left\"><h3 style=\"margin-top: 0;\">Probability for Data Science</h3><h4 style=\"margin-top: 20px;\">UC Berkeley, Spring 2019</h4><p>Ani Adhikari and Jim Pitman</p>CC BY-NC 4.0</div></td></tr></table><!-- not in pdf -->"
   ]
  },
  {
   "cell_type": "code",
   "execution_count": null,
   "metadata": {
    "#solution": false,
    "#staff": false,
    "#student": false
   },
   "outputs": [],
   "source": [
    "from datascience import *\n",
    "from prob140 import *\n",
    "import matplotlib.pyplot as plt\n",
    "plt.style.use(\"fivethirtyeight\")\n",
    "%matplotlib inline\n",
    "import numpy as np\n",
    "from scipy import stats\n",
    "import ipywidgets as widgets\n",
    "from ipywidgets import interact\n",
    "import warnings\n",
    "warnings.simplefilter('ignore')\n",
    "from matplotlib.ticker import FormatStrFormatter"
   ]
  },
  {
   "cell_type": "code",
   "execution_count": null,
   "metadata": {
    "#solution": false,
    "#staff": false,
    "#student": false
   },
   "outputs": [],
   "source": [
    "def fixed_append(self, row_or_table):\n",
    "    \"\"\"Append a row or all rows of a table. An appended table must have all\n",
    "    columns of self.\"\"\"\n",
    "    if not row_or_table:\n",
    "        return\n",
    "    if isinstance(row_or_table, Table):\n",
    "        t = row_or_table\n",
    "        columns = list(t.select(self.labels)._columns.values())\n",
    "        n = t.num_rows\n",
    "    else:\n",
    "        if (len(list(row_or_table)) != self.num_columns):\n",
    "            raise Exception('Row should have '+ str(self.num_columns) + \" columns\")\n",
    "        columns, n = [[value] for value in row_or_table], 1\n",
    "    for i, column in enumerate(self._columns):\n",
    "        # ONLY NEW TWO LINES ADDED\n",
    "        if isinstance(columns[i][0], np.ndarray): #ADDED THIS LINE\n",
    "            self._columns[column] = np.array(self._columns[column].tolist() + columns[i] + [np.array([])])[:-1] #ADDED THIS LINE\n",
    "        else:\n",
    "            if self.num_rows:\n",
    "                self._columns[column] = np.append(self[column], columns[i])\n",
    "            else:\n",
    "                self._columns[column] = np.array(columns[i])\n",
    "                \n",
    "    self._num_rows += n\n",
    "    return self\n",
    "Table.append = fixed_append"
   ]
  },
  {
   "cell_type": "code",
   "execution_count": null,
   "metadata": {
    "#solution": false,
    "#staff": false,
    "#student": false
   },
   "outputs": [],
   "source": [
    "def override_hist(*args, **kwargs):\n",
    "    \"\"\"\n",
    "    This cleans up some unfortunate floating point precision\n",
    "    bugs in the datascience library\n",
    "    \"\"\"\n",
    "    #kwargs['edgecolor'] = 'w'\n",
    "    Table.hist2(*args, **kwargs)\n",
    "    ax = plt.gca()\n",
    "    ticks = ax.get_xticks()\n",
    "    if np.any(np.array(ticks) != np.rint(ticks)):\n",
    "        ax.xaxis.set_major_formatter(FormatStrFormatter('%.2f'))\n",
    "\n",
    "if not hasattr(Table, 'hist2'):\n",
    "    Table.hist2 = Table.hist\n",
    "    \n",
    "Table.hist = override_hist"
   ]
  },
  {
   "cell_type": "markdown",
   "metadata": {
    "#solution": false,
    "#staff": false,
    "#student": false
   },
   "source": [
    "# Lab 10: Chinese Restaurant Process #"
   ]
  },
  {
   "cell_type": "markdown",
   "metadata": {
    "#solution": false,
    "#staff": false,
    "#student": false
   },
   "source": [
    "In this lab you will analyze a stochastic model for *clustering*, which is a process of visualizing and organizing data based on similarities between sampled individuals. Methods of identifying clusters have applications in a wide variety of areas. Here are just a few examples.\n",
    "\n",
    "- Criminology: locations where a type of crime occurs\n",
    "- Marketing: customers who share preferences\n",
    "- Biology: populations segmented by patterns in genes\n",
    "- Natural Language Processing: words grouped by similarity of meaning or grammatical properties\n",
    "\n",
    "One commonly used model is *k-means clustering*, which assumes that the data are continuous numerical variables and that the number of clusters in the population is known to be $k$. By contrast, the *Chinese Restaurant Process* is a discrete time stochastic process that can be used as a model for clustering and does not assume a fixed number of clusters. Instead, the clusters evolve randomly as individuals enter, according to a specified probabilistic structure. The data could be categorical or numerical.\n",
    "\n",
    "The Chinese Restaurant Process is an example of a *generative Bayesian model* that specifies the probabilistic rules by which the process evolves and in which the representation itself evolves as more data come in.\n",
    "\n",
    "**History:** The process has its origins in the work of [Warren Ewens](https://en.wikipedia.org/wiki/Warren_Ewens) in the early 1970's, in particular the [Ewens Sampling Formula](https://en.wikipedia.org/wiki/Ewens%27s_sampling_formula) of population genetics. Since then, the development of the theory of the stochastic process and its use in machine learning has been very much a Berkeley enterprise: Jim Pitman, David Aldous, and Mike Jordan are among the people involved. The restaurant analogy is due to Jim Pitman and our late colleague Lester Dubins, during one of their regular cafe meetings decades ago. Though there is a popular story that they came up with it while eating at a Chinese restaurant, in fact they were at the Strada on Bancroft and College; it was called Roma at that time. "
   ]
  },
  {
   "cell_type": "markdown",
   "metadata": {
    "#solution": false,
    "#staff": false,
    "#student": false
   },
   "source": [
    "**What you will learn:** In this course we will focus on understanding the probability model. You can then go on to other classes that discuss how to fit the model to data.\n",
    "\n",
    "You will start by simulating the process and looking at the total number of clusters observed in a fixed amount of time. This theory helps answer questions like these, about $n$ observations:\n",
    "- How many different animal species do you expect to see?\n",
    "- What is the distribution of the number of different types of documents that you will have?\n",
    "- What is the chance that everybody is retweeting the same tweet?\n",
    "\n",
    "The \"restaurant\" image is that each person entering the restaurant chooses a table to join. Thus each table becomes a cluster. The model allows for an infinite number of tables, each of infinite size, though of course if you make $n$ observations then the observed number of occupied tables will be finite. That's the number of different clusters observed.\n",
    "\n",
    "You will then study the long run behavior of the proportion of people at Table 1. This helps answer questions such as:\n",
    "\n",
    "- About what proportion of the animals are of the same species as the first one you saw?\n",
    "- What is the chance that more than half the retweets are the same as the first one?\n",
    "\n",
    "The proportion of people at the first table has some surprising and beautiful properties. You will learn:\n",
    "\n",
    "- Why the behavior of the proportion supports the idea that \"the rich get richer\"\n",
    "- The connection between the long run distribution of the proportion and the beta family"
   ]
  },
  {
   "cell_type": "markdown",
   "metadata": {
    "#solution": false,
    "#staff": false,
    "#student": false
   },
   "source": [
    "## The Process ##\n",
    "In keeping with the Chinese Restaurant analogy, think of clusters as groups of people sitting at the same table. We will only consider occupied tables, so the number of tables is equal to the number of clusters. \n",
    "\n",
    "The process evolves according to the following rules.\n",
    "- There is a positive parameter $\\theta$.\n",
    "- People enter the restaurant one at a time.\n",
    "- Person 1 enters and sits at a table that we will call Table 1.\n",
    "- Each subsequent person \n",
    "    - either joins an existing table with probability proportional to the number of people already at that table, or\n",
    "    - starts a new table with probability proportional to $\\theta$.\n",
    "- People choose tables independently of each other.\n",
    "\n",
    "Don't worry about running out of room. The restaurant has infinite capacity and each table is infinitely large. You can imagine infinitely many such tables at the start, or imagine new tables appearing magically each time a person's random choice is to start a new table. We prefer the second image because it consists only of the occupied tables.\n",
    "\n",
    "Note that the tables are not labeled at the start. We label them according to their order of formation. Thus Table 1 is the table at which Person 1 sits. Table 2 is the next new table to be formed. We can't say exactly who starts it, because that's random. Table 3 is the third new table to be formed. And so on.\n",
    "\n",
    "To visualize the process, run the cell below. It simulates 100 people arriving according to a Chinese Restaurant process with some value of $\\theta$. Move the slider slowly at first, so that you can see the people coming in one at a time. \n",
    "\n",
    "Run the cell several times. The value of $\\theta$ changes each time and you will see quite a bit of variation in the results. This indicates that you might be able to use this model in varied applications, by setting the parameter appropriately."
   ]
  },
  {
   "cell_type": "code",
   "execution_count": null,
   "metadata": {
    "#solution": false,
    "#staff": false,
    "#student": false
   },
   "outputs": [],
   "source": [
    "visualize_cr()"
   ]
  },
  {
   "cell_type": "markdown",
   "metadata": {
    "#solution": false,
    "#staff": false,
    "#student": false
   },
   "source": [
    "#newpage\n",
    "\n",
    "## Part 1: Simulating the Process ##\n",
    "We will start by specifying a way to describe the state of the process at time $n$. That is when $n$ people have been seated. \n",
    "\n",
    "The description is a list such that the $i$th element of the list is the number of people seated at Table $i$ at time $n$. \n",
    "\n",
    "In other words, the description is a list of the counts of people at the occupied tables, in order of table formation.\n",
    "\n",
    "The process starts at time $n = 1$ with one person seated at Table 1. Therefore the state of the process at time 1 is just the list `[1]`.\n",
    "\n",
    "At each stage, a new person arrives and is seated according to the rules of the process. \n",
    "\n",
    "Therefore at time $n = 2$, there are two possible states for the process: either `[2]` if Person 2's random choice was Table 1, or `[1 1]` if Person 2's random choice was to create a new table.\n",
    "\n",
    "At time $n = 3$ the possible states are `[3]`, `[2 1]`, `[1 2]`, and `[1 1 1]`.\n",
    "\n",
    "And so on."
   ]
  },
  {
   "cell_type": "markdown",
   "metadata": {
    "#solution": false,
    "#staff": false,
    "#student": false
   },
   "source": [
    "### a) One Step Transition ###\n",
    "Define a function `one_step_cr` that takes two arguments:\n",
    "\n",
    "- a state of the process\n",
    "- the parameter $\\theta$\n",
    "\n",
    "The function should simulate the choice made by the next person who enters, and return the state of the process when that person has taken a seat.\n",
    "\n",
    "Before you start coding, write out what `one_step_cr([2], 1.5)` could evaluate to. There is more than one correct possible value; write all of them."
   ]
  },
  {
   "cell_type": "markdown",
   "metadata": {
    "#solution": false,
    "#staff": false,
    "#student": true
   },
   "source": [
    "\n",
    "**Your answer here**\n",
    "\n",
    "`one_step_cr([2], 1.5)` could evalute to: "
   ]
  },
  {
   "cell_type": "markdown",
   "metadata": {
    "#solution": false,
    "#staff": false,
    "#student": false
   },
   "source": [
    "Now define `one_step_cr` using the skeleton code below. You will use `np.random.choice` for the random selection. The call `np.random.choice(values, p = probabilities)` makes one random draw from the distribution that has possible values in the array `values` and the corresponding probabilities in the array `probabilities`.\n",
    "\n",
    "A note on list indices: The code will convert the chosen value to be of the `int` type, because later you will have to use it as a list index.\n",
    "\n",
    "A note on lists: If you need to change the element at index `k` of a list `mylist`, say by multiplying the original element by 2, you can use `mylist[k] = mylist[k] * 2`."
   ]
  },
  {
   "cell_type": "code",
   "execution_count": null,
   "metadata": {
    "#solution": false,
    "#staff": false,
    "#student": true
   },
   "outputs": [],
   "source": [
    "\n",
    "def one_step_cr(counts, theta):\n",
    "    \"\"\"Returns the next state of a Chinese Restaurant Process \n",
    "    with parameter theta,\n",
    "    starting with the current state given in the list called counts\"\"\"\n",
    "    \n",
    "    # Total number of people already seated before the new person arrives\n",
    "    n = ...\n",
    "    \n",
    "    # Labels of all the possible tables the new person could choose\n",
    "    # Be careful!\n",
    "    tables = np.arange(1, ...)\n",
    "    \n",
    "    # The probabilities for all the different tables \n",
    "    # the new person could choose, in the order\n",
    "    # P(Table 1), P(Table 2), ...\n",
    "    probs = ...\n",
    "    \n",
    "    # The chosen table\n",
    "    chosen = np.random.choice(...)\n",
    "    \n",
    "    # Converted to an int so you can use it as an index:\n",
    "    chosen = int(chosen)\n",
    "    \n",
    "    if chosen ...\n",
    "    ...\n",
    "    \n",
    "    # Return the state of the process once the new person has taken a seat\n",
    "    return counts"
   ]
  },
  {
   "cell_type": "markdown",
   "metadata": {
    "#solution": false,
    "#staff": false,
    "#student": false
   },
   "source": [
    "Run the cell below several times and make sure it agrees with your earlier answer."
   ]
  },
  {
   "cell_type": "code",
   "execution_count": null,
   "metadata": {
    "#solution": false,
    "#staff": false,
    "#student": true
   },
   "outputs": [],
   "source": [
    "\n",
    "theta = 1.5\n",
    "one_step_cr([2], theta)"
   ]
  },
  {
   "cell_type": "markdown",
   "metadata": {
    "#solution": false,
    "#staff": false,
    "#student": false
   },
   "source": [
    "### b) Steps 1 Through $N$ ###\n",
    "You can now simulate the first $n$ steps of the process iteratively, starting with the state `[1]` at time $1$. To save you some time recalling `Table.append` and also dealing with the way lists in Python mutate, we have written the code for you. It should be easy for you to read and follow.\n",
    "\n",
    "Run the cell below. It defines a function `cr` that takes $N$ and $\\theta$ as its arguments, simulates the Chinese Restaurant process starting with 1 person at time 1, and returns a table that contains the states of the simulated process at times 1 through $N$."
   ]
  },
  {
   "cell_type": "code",
   "execution_count": null,
   "metadata": {
    "#solution": false,
    "#staff": false,
    "#student": false
   },
   "outputs": [],
   "source": [
    "def cr(N, theta):\n",
    "    # A table with two columns, but no rows yet\n",
    "    process = Table(['Time', 'Counts at Tables'])\n",
    "    \n",
    "    # initial state\n",
    "    state = np.array([1])\n",
    "    # Append a row corresponding to Time 1; this mutates the table\n",
    "    process.append([1, state])\n",
    "    \n",
    "    # Iterate\n",
    "    for i in np.arange(2, N+1):\n",
    "        state = one_step_cr(state.copy(), theta) # .copy() deals with list mutation\n",
    "        process.append([i, state])\n",
    "    \n",
    "    return process"
   ]
  },
  {
   "cell_type": "markdown",
   "metadata": {
    "#solution": false,
    "#staff": false,
    "#student": false
   },
   "source": [
    "Run the cell below several times, changing `N` and `theta` occasionally. Each time, check that the evolution of the states is in accordance with the rules of the process. For example, think about the total number of people that should be seated at each time $n$."
   ]
  },
  {
   "cell_type": "code",
   "execution_count": null,
   "metadata": {
    "#solution": false,
    "#staff": false,
    "#student": true
   },
   "outputs": [],
   "source": [
    "\n",
    "theta = 1\n",
    "N = 10\n",
    "cr(N, theta)"
   ]
  },
  {
   "cell_type": "markdown",
   "metadata": {
    "#solution": false,
    "#staff": false,
    "#student": false
   },
   "source": [
    "### c) Visualizing the Clusters ### \n",
    "\n",
    "The function `visualize_cr` takes an optional argument that is a state of the process. The function displays the state, that is, the tables and the people seated at them.\n",
    "\n",
    "Use `visualize_cr` to display a simulated state of the Chinese Restaurant process with parameter 2.5 at time 100."
   ]
  },
  {
   "cell_type": "code",
   "execution_count": null,
   "metadata": {
    "#solution": false,
    "#staff": false,
    "#student": true
   },
   "outputs": [],
   "source": [
    "\n",
    "N = 100\n",
    "theta = 2.5\n",
    "state = ...\n",
    "visualize_cr(state)"
   ]
  },
  {
   "cell_type": "markdown",
   "metadata": {
    "#solution": false,
    "#staff": false,
    "#student": false
   },
   "source": [
    "### d) Varying $\\theta$ ###\n",
    "Run the cell below with $N = 100$ and $\\theta = 0.5$, 1, and 2. Do this several times to get a sense of the variation in the number of tables (clusters) and the distribution of people in them (cluster sizes)."
   ]
  },
  {
   "cell_type": "code",
   "execution_count": null,
   "metadata": {
    "#solution": false,
    "#staff": false,
    "#student": true
   },
   "outputs": [],
   "source": [
    "\n",
    "N = 100\n",
    "theta = ...\n",
    "state = ...\n",
    "visualize_cr(state)"
   ]
  },
  {
   "cell_type": "markdown",
   "metadata": {
    "#solution": false,
    "#staff": false,
    "#student": false
   },
   "source": [
    "Give a brief qualitative description of what you have seen in the simulations for $N = 100$ and $\\theta = 0.5, 1$, and $2$. Address questions such as:\n",
    "\n",
    "- Are there lots of tables, not many, or is it not possible to tell?\n",
    "- Is the distribution of the number of people pretty uniform across the tables? If not, describe what you see about the number of big and small clusters.\n",
    "- In what way does $\\theta$ make a difference? Or is it not possible to tell?"
   ]
  },
  {
   "cell_type": "markdown",
   "metadata": {
    "#solution": false,
    "#staff": false,
    "#student": true
   },
   "source": [
    "\n",
    "**Your answer here**"
   ]
  },
  {
   "cell_type": "markdown",
   "metadata": {
    "#solution": false,
    "#staff": false,
    "#student": false
   },
   "source": [
    "#newpage\n",
    "\n",
    "## Part 2. The Rich Get Richer ##\n",
    "\n",
    "Remember that Person $n$ enters the system at time $n$. Thus time is always equal to the total number of people in the system at that time.\n",
    "\n",
    "In this part of the lab you will follow the **number** of people at Table 1 as the process evolves.\n",
    "\n",
    "- At time 1 the number of people at Table 1 is 1 because there is only one person and that person sits at Table 1. \n",
    "- At time 2 the number is either 2 (if Person 2 chooses Table 1) or 1 (if Person 2 starts a new table). \n",
    "- And so on."
   ]
  },
  {
   "cell_type": "markdown",
   "metadata": {
    "#solution": false,
    "#staff": false,
    "#student": false
   },
   "source": [
    "### a) Number at Table 1 ###\n",
    "Define a function `t1_counts` that takes $N$ and $\\theta$ as arguments and does the following:\n",
    "\n",
    "- Runs the Chinese Restaurant process with parameter $\\theta$ till time $N$\n",
    "- Returns an array of length $N$ such that the $i$th element of the array is the number of people at Table 1 at time $i$\n",
    "\n",
    "Thus, the first element of the returned array should always be 1. Recall that if the second person joins Table 1, then the second element should be 2. If the third person chooses Table 2, then the third element should still be 2. And so on."
   ]
  },
  {
   "cell_type": "code",
   "execution_count": null,
   "metadata": {
    "#solution": false,
    "#staff": false,
    "#student": true
   },
   "outputs": [],
   "source": [
    "\n",
    "def useful_function(mylist):\n",
    "    \"\"\"The argument is a list.\n",
    "    See the use of the function in the definition of t1_counts below\"\"\"\n",
    "    return ...\n",
    "\n",
    "def t1_counts(N, theta):\n",
    "    return cr(N, theta).apply(useful_function, ...)"
   ]
  },
  {
   "cell_type": "markdown",
   "metadata": {
    "#solution": false,
    "#staff": false,
    "#student": false
   },
   "source": [
    "Run the cell below several times, varying $N$ and $\\theta$ occasionally. Check that the array has the right length and that the elements are consistent with counts evolving over time."
   ]
  },
  {
   "cell_type": "code",
   "execution_count": null,
   "metadata": {
    "#solution": false,
    "#staff": false,
    "#student": true
   },
   "outputs": [],
   "source": [
    "N = 10\n",
    "theta = 2\n",
    "t1_counts(N, theta)"
   ]
  },
  {
   "cell_type": "markdown",
   "metadata": {
    "#solution": false,
    "#staff": false,
    "#student": false
   },
   "source": [
    "### b) Plotting the Counts ###\n",
    "Now define a function `plot_t1_counts` that takes `N`, `theta`, and `repetitions` as its arguments and for each repetition does the following:\n",
    "\n",
    "- Runs the Chinese Restaurant process with parameter `theta` till time `N` and keeps track of the number of people at Table 1 at each time 1 through $N$.\n",
    "- Displays a graph of the counts at Table 1 versus time.\n",
    "\n",
    "We will call each graph a *path* of the number of people at Table 1 as people enter the system.\n",
    "\n",
    "Don't forget that we start with 1 person."
   ]
  },
  {
   "cell_type": "code",
   "execution_count": null,
   "metadata": {
    "#solution": false,
    "#staff": false,
    "#student": true
   },
   "outputs": [],
   "source": [
    "\n",
    "def plot_t1_counts(N, theta, repetitions):\n",
    "    n = ...\n",
    "    for i in np.arange(repetitions):\n",
    "        plt.plot(n, ..., lw=2)  "
   ]
  },
  {
   "cell_type": "markdown",
   "metadata": {
    "#solution": false,
    "#staff": false,
    "#student": false
   },
   "source": [
    "Run the following cell several times. Then change $N$ and $\\theta$ and run the cell again. Make sure you include $\\theta = 0.5$ and $\\theta = 2$. If you change the number of paths, keep it fairly small so that you can see the individual paths clearly."
   ]
  },
  {
   "cell_type": "code",
   "execution_count": null,
   "metadata": {
    "#solution": false,
    "#staff": false,
    "#student": false
   },
   "outputs": [],
   "source": [
    "N = 100\n",
    "theta = 1\n",
    "plot_t1_counts(N, theta, 10)\n",
    "plt.xlabel('Time')\n",
    "plt.title('Number of People at Table 1');"
   ]
  },
  {
   "cell_type": "markdown",
   "metadata": {
    "#solution": false,
    "#staff": false,
    "#student": false
   },
   "source": [
    "### c) Interpreting the Plot ###\n",
    "\n",
    "(i) Each path is the graph of a function of time. What kind of function do you see? Briefly summarize what the paths are likely to look like, based on your observations in **b**."
   ]
  },
  {
   "cell_type": "markdown",
   "metadata": {
    "#solution": false,
    "#staff": false,
    "#student": true
   },
   "source": [
    "\n",
    "**Your answer here**\n",
    "\n",
    "(i)"
   ]
  },
  {
   "cell_type": "markdown",
   "metadata": {
    "#solution": false,
    "#staff": false,
    "#student": false
   },
   "source": [
    "(ii) Let $W_n$ be the number of people at Table 1 at time $n$, and consider the rate of change of $W_n$ as a function of $n$. Based on your observations in **b**, for paths that have a high rate of change when $n$ is small, is the rate of change typically high or typically low as $n$ gets larger? Explain why it is possible to do a pretty good job of predicting $W_n$ for a large $n$, based on observing the early stages of the process."
   ]
  },
  {
   "cell_type": "markdown",
   "metadata": {
    "#solution": false,
    "#staff": false,
    "#student": true
   },
   "source": [
    "\n",
    "**Your answer here**\n",
    "\n",
    "(ii)"
   ]
  },
  {
   "cell_type": "markdown",
   "metadata": {
    "#solution": false,
    "#staff": false,
    "#student": false
   },
   "source": [
    "(iii) The Chinese Restaurant process is said to have the property that \"the rich get richer.\" Briefly explain this in light of your answer to (ii). \n",
    "\n",
    "Then explain how you would describe this property to a natural scientist in a context where instead of people there are animals sitting at \"tables\", where tables are species. It might help to imagine that the data consists of video recorded by a [hidden camera](https://gizmodo.com/how-dslr-camera-traps-are-capturing-stunning-wildlife-p-1730499208) in a nature reserve. "
   ]
  },
  {
   "cell_type": "markdown",
   "metadata": {
    "#solution": false,
    "#staff": false,
    "#student": true
   },
   "source": [
    "\n",
    "**Your answer here**\n",
    "\n",
    "(iii)"
   ]
  },
  {
   "cell_type": "markdown",
   "metadata": {
    "#solution": false,
    "#staff": false,
    "#student": false
   },
   "source": [
    "#newpage\n",
    "\n",
    "## Part 3. Long Run Proportion at Table 1 ##\n",
    "Now track the **proportion** of people at Table 1, instead of the number of people at the table."
   ]
  },
  {
   "cell_type": "markdown",
   "metadata": {
    "#solution": false,
    "#staff": false,
    "#student": false
   },
   "source": [
    "### a) Plotting the Proportions ###\n",
    "Define a function `plot_t1_proportions` that's just like `plot_t1_counts` except that it plots the proportions of people at Table 1 instead of the counts. Use as many lines as you need."
   ]
  },
  {
   "cell_type": "code",
   "execution_count": null,
   "metadata": {
    "#solution": false,
    "#staff": false,
    "#student": true
   },
   "outputs": [],
   "source": [
    "def plot_t1_proportions(N, theta, repetitions):\n",
    "    ..."
   ]
  },
  {
   "cell_type": "markdown",
   "metadata": {
    "#solution": false,
    "#staff": false,
    "#student": false
   },
   "source": [
    "Run the cell below several times, then change $N$ and $\\theta$ as in **2b** and run it again several times."
   ]
  },
  {
   "cell_type": "code",
   "execution_count": null,
   "metadata": {
    "#solution": false,
    "#staff": false,
    "#student": false
   },
   "outputs": [],
   "source": [
    "N = 100\n",
    "theta = 1\n",
    "plot_t1_proportions(N, theta, 10)"
   ]
  },
  {
   "cell_type": "markdown",
   "metadata": {
    "#solution": false,
    "#staff": false,
    "#student": false
   },
   "source": [
    "### b) Convergence ###\n",
    "What feature of the paths helps us visualize the following result?\n",
    "\n",
    "If $W_n$ is the number of people at Table 1 at time $n$, then the proportion $\\frac{W_n}{n}$ converges with probability 1 as $n \\to \\infty$."
   ]
  },
  {
   "cell_type": "markdown",
   "metadata": {
    "#solution": false,
    "#staff": false,
    "#student": true
   },
   "source": [
    "\n",
    "**Your answer here**"
   ]
  },
  {
   "cell_type": "markdown",
   "metadata": {
    "#solution": false,
    "#staff": false,
    "#student": false
   },
   "source": [
    "#newpage\n",
    "\n",
    "## Part 4. Limit Distribution of the Proportion ##\n",
    "\n",
    "Let $W = \\lim_{n \\to \\infty} \\frac{W_n}{n}$ be the limit of the proportion of people at Table 1.\n",
    "\n",
    "Clearly the possible values of $W$ are the interval $(0, 1)$. In this part you will use simulation to identify the distribution of $W$ over the unit interval.\n",
    "\n",
    "To do this, you will simulate the distribution of $\\frac{W_N}{N}$ for a large $N$, and compare it with a known distribution."
   ]
  },
  {
   "cell_type": "markdown",
   "metadata": {
    "#solution": false,
    "#staff": false,
    "#student": false
   },
   "source": [
    "### a) Simulating the Proportion ###\n",
    "\n",
    "Define a function `t1_prop_at_fixed_time` that takes $N$ and $\\theta$ as its arguments, simulates the Chinese Restaurant process with parameter $\\theta$, and returns the proportion of people at Table 1 at time $N$.\n",
    "\n",
    "Your function `t1_counts` from Part 2 will be useful."
   ]
  },
  {
   "cell_type": "code",
   "execution_count": null,
   "metadata": {
    "#solution": false,
    "#staff": false,
    "#student": true
   },
   "outputs": [],
   "source": [
    "\n",
    "def t1_prop_at_fixed_time(N, theta):\n",
    "    return ..."
   ]
  },
  {
   "cell_type": "markdown",
   "metadata": {
    "#solution": false,
    "#staff": false,
    "#student": false
   },
   "source": [
    "Now define a function `sim_t1_prop_at_fixed_time` that takes $N$, $\\theta$, and a number of repetitions as its arguments. It should return an array of length equal to `repetitions` such that each element of the array is an independently simulated proportion of people at Table 1 at time $N$. Use as many lines as you need."
   ]
  },
  {
   "cell_type": "code",
   "execution_count": null,
   "metadata": {
    "#solution": false,
    "#staff": false,
    "#student": true
   },
   "outputs": [],
   "source": [
    "\n",
    "def sim_t1_prop_at_fixed_time(N, theta, repetitions):\n",
    "    ..."
   ]
  },
  {
   "cell_type": "markdown",
   "metadata": {
    "#solution": false,
    "#staff": false,
    "#student": false
   },
   "source": [
    "Run the cell below to check that the output is an array of proportions and that the array has the correct length."
   ]
  },
  {
   "cell_type": "code",
   "execution_count": null,
   "metadata": {
    "#solution": false,
    "#staff": false,
    "#student": true
   },
   "outputs": [],
   "source": [
    "\n",
    "sim_t1_prop_at_fixed_time(100, 1, 5)"
   ]
  },
  {
   "cell_type": "markdown",
   "metadata": {
    "#solution": false,
    "#staff": false,
    "#student": false
   },
   "source": [
    "### b) A Beta Distribution ###\n",
    "\n",
    "Complete the function definition in the cell below. The function should display the empirical histogram of $\\frac{W_N}{N}$ with the beta $(1, \\theta)$ density overlaid."
   ]
  },
  {
   "cell_type": "code",
   "execution_count": null,
   "metadata": {
    "#solution": false,
    "#staff": false,
    "#student": true
   },
   "outputs": [],
   "source": [
    "\n",
    "# Empirical distribution of W_N/N\n",
    "# with beta (1, theta) density overlaid\n",
    "\n",
    "def plot_limit_t1_proportion(N, theta, repetitions):\n",
    "    t1_props = ...\n",
    "    Table().with_column('Proportion at Table 1', t1_props).hist(bins=20)\n",
    "    x = np.arange(0, 1.01, 0.01)\n",
    "    plt.plot(x, ..., color='red', lw=2)\n",
    "    plt.title('Overlaid Density: Beta'+ r'$(1, \\theta)$');"
   ]
  },
  {
   "cell_type": "markdown",
   "metadata": {
    "#solution": false,
    "#staff": false,
    "#student": false
   },
   "source": [
    "Use `plot_limit_t1_proportion` to display the empirical histogram of $\\frac{W_{100}}{100}$ based on 2000 repetitions of the following:\n",
    "\n",
    "- Run the Chinese Restaurant process with $\\theta = 1$ till time 100, and compute $\\frac{W_{100}}{100}$\n",
    "\n",
    "How does the empirical distribution compare with the overlaid beta $(1, \\theta)$ density? \n",
    "\n",
    "[Note: If you want to experiment with making $N$ larger than 100, be prepared to be patient as the code chugs along.]"
   ]
  },
  {
   "cell_type": "code",
   "execution_count": null,
   "metadata": {
    "#solution": false,
    "#staff": false,
    "#student": true
   },
   "outputs": [],
   "source": [
    "\n",
    "..."
   ]
  },
  {
   "cell_type": "markdown",
   "metadata": {
    "#solution": false,
    "#staff": false,
    "#student": false
   },
   "source": [
    "### c) Another Beta Distribution ###\n",
    "Repeat the simulation above keeping everything the same but changing $\\theta$ from 1 to 0.5."
   ]
  },
  {
   "cell_type": "code",
   "execution_count": null,
   "metadata": {
    "#solution": false,
    "#staff": false,
    "#student": true
   },
   "outputs": [],
   "source": [
    "\n",
    "plot_limit_t1_proportion(...)"
   ]
  },
  {
   "cell_type": "markdown",
   "metadata": {
    "#solution": false,
    "#staff": false,
    "#student": false
   },
   "source": [
    "Give a brief intuitive explanation why the long run proportion of people at Table 1 is more likely to be high than low when $\\theta = 0.5$. It will help to think about what happens when the first few people enter the system, and also to keep in mind Part 2 of this lab."
   ]
  },
  {
   "cell_type": "markdown",
   "metadata": {
    "#solution": false,
    "#staff": false,
    "#student": true
   },
   "source": [
    "\n",
    "**Your answer here**"
   ]
  },
  {
   "cell_type": "markdown",
   "metadata": {
    "#solution": false,
    "#staff": false,
    "#student": false
   },
   "source": [
    "### d) ###\n",
    "Repeat the simulation above keeping everything the same but changing $\\theta$ from 0.5 to 2."
   ]
  },
  {
   "cell_type": "code",
   "execution_count": null,
   "metadata": {
    "#solution": false,
    "#staff": false,
    "#student": true
   },
   "outputs": [],
   "source": [
    "\n",
    "..."
   ]
  },
  {
   "cell_type": "markdown",
   "metadata": {
    "#solution": false,
    "#staff": false,
    "#student": false
   },
   "source": [
    "What you have observed by simulation is an approximation to the distribution of the long run proportion of people at Table 1. \n",
    "\n",
    "Why is it beta $(1, \\theta)$? Do this week's homework and you'll find out. The Chinese Restaurant process is closely related to the beta-binomial process that you have studied in class."
   ]
  },
  {
   "cell_type": "markdown",
   "metadata": {
    "#solution": false,
    "#staff": false,
    "#student": false
   },
   "source": [
    "## Conclusion ##\n",
    "What you have learned:\n",
    "- The assumptions of a clustering model in which individuals aren't labeled by type ahead of time and the number of clusters is unknown\n",
    "- How to simulate data under this model\n",
    "- The number of people at Table 1 grows in a predictable way after some randomness in the early stages.\n",
    "- If Table 1 gets rich, then it gets richer.\n",
    "- The proportion of people at Table 1 has a limit, and the distribution of the limit is a member of the beta family.\n",
    "- There's got to be a reason why the beta density appears. The cliff-hanger is resolved in this week's homework, via the beta-binomial process.\n",
    "\n",
    "More advanced analyses of the Chinese Restaurant process include descriptions the joint distribution of the proportions at all the tables. These are related to the *Dirichlet-multinomial* process, which is the multivariate version of the beta-binomial process. \n",
    "\n",
    "It's late in the semester and we don't have time to go into all that. But you can skim [a description](https://en.wikipedia.org/wiki/Chinese_restaurant_process) of the Chinese Restaurant process, in which you will spot a lot that is familiar and a lot that isn't. For an illuminating exposition, read the first few pages of [a much-cited paper](http://www.cs.columbia.edu/~blei/papers/BleiGriffithsJordan2009a.pdf) by Blei, Griffiths, and Jordan.  "
   ]
  },
  {
   "cell_type": "markdown",
   "metadata": {
    "#solution": false,
    "#staff": false,
    "#student": false
   },
   "source": [
    "## Submission Instructions ##\n",
    "\n",
    "Many assignments throughout the course will have a written portion and a code portion. Please follow the directions below to properly submit both portions.\n",
    "\n",
    "### Written Portion ###\n",
    "*  Scan all the pages into a PDF. You can use any scanner or a phone using applications such as CamScanner. Please **DO NOT** simply take pictures using your phone. \n",
    "* Please start a new page for each question. If you have already written multiple questions on the same page, you can crop the image in CamScanner or fold your page over (the old-fashioned way). This helps expedite grading.\n",
    "* It is your responsibility to check that all the work on all the scanned pages is legible.\n",
    "\n",
    "### Code Portion ###\n",
    "* **Save your notebook using File > Save and Checkpoint.**\n",
    "* Run the cell below to generate a PDF file.\n",
    "* Download the PDF file and confirm that none of your work is missing or cut off.  If the link leads you to a blank page, use [Command]+[S] or [Ctrl]+[S] to download your work. \n",
    "\n",
    "### Submitting ###\n",
    "* Combine the PDFs from the written and code portions into one PDF.  [Here](https://smallpdf.com/merge-pdf) is a useful tool for doing so.  \n",
    "* Submit the assignment to Lab 10 on Gradescope. \n",
    "* **Make sure to assign each page of your pdf to the correct question.**\n",
    "\n",
    "\n",
    "\n",
    "### **We will not grade assignments which do not have pages selected for each question or were submitted after the deadline.** "
   ]
  },
  {
   "cell_type": "code",
   "execution_count": null,
   "metadata": {
    "#solution": false,
    "#staff": false,
    "#student": false
   },
   "outputs": [],
   "source": [
    "import gsExport\n",
    "gsExport.generateSubmission(\"Lab_10.ipynb\")"
   ]
  }
 ],
 "metadata": {
  "anaconda-cloud": {},
  "checksums": [
   "36d6125272e38841d377985b31e7a672",
   "3ef067587b26bbd551c6000217ece6f7",
   "0e363bd101484bc85d8488a6540b1f31",
   "dd3b27e0187b6198fd7f5f27bf916063",
   "264173c77e734652c5699b239aac824c",
   "9d54cadb58c7aa5f00acad12eab73289",
   "d190742901f298d7fd0ef9734cf6a863",
   "d46bfe2d2dfee55b3643d08d4879c121",
   "f2de394ebc27de88aaf38cbeab20d682",
   "a1e69defa02d8af496f532085a60b5ce",
   "29564db2eab860eab612968b7b60572a",
   "369fe812c34e8d15728fe1a7ee0fa9b0",
   "c275a73513aac8c13949a3b8641ca852",
   "9445c4888c5646ca4a91c40cedb20988",
   "0b894546bc7500609db6bc07ea23945f",
   "66e3201845599367ac3eef8c054d6487",
   "02cf4a3e629e9092ed50f886f453ba09",
   "d73f690381f286f63e79ff754ece6d60",
   "122130b7f1a7ae08cbd8bfd6447bfb14",
   "cbfce8c4a5002e8d3701b2ca4b502e59",
   "ac92db8d9f8d0d694ee2032a36fd24c0",
   "de75be4c51f703d93aa592f4a1f2fd10",
   "8d11d7dbc379d812a7a91c07104af92a",
   "10d8d0991b6b8d07e729aca1eb9b4689",
   "133c34584b6227e7fd3d46eefacfd949",
   "0de20b93bb878d597e59213991465648",
   "31f571c338cdad3a691bffd01c155787",
   "79ab62fc646c020cb2c570055e683a89",
   "eb3485f8f91b2c940daa558d0b323401",
   "da0ea83217b1228c4d2bf13865f85cd8",
   "bf510124fc34045c08e126ed927c2557",
   "66779483bc710454073d1d2b42c1fc37",
   "cf0230eba7fed9eed81ef3325ad71e22",
   "1ead39222f2446795d449f892040e739",
   "be10b0471f6d15e72876994c01c0bc57",
   "b74d51539bfafc47c32eafed11b4f4ae",
   "713f7d3eff4ec1278ce3ea69ec72a472",
   "ed65b92414cdfd3be0930b77fb075a48",
   "bdf7e524187ef6e40e6fee5ab842b493",
   "e5c87fe4d8349e7828d3c94412baa15d",
   "372f0ddb24670ff3011147eab8124fb3",
   "01de1d2332fe814cf944842741fcc62c",
   "b315c8a15af328d96c5451248284ee67",
   "551f47a3ee63ca9fb9f9ed55023616a7",
   "713c121910ee6d3d57f53ef9375ea74b",
   "a3bb185e4bed50b35372fc023e5e3872",
   "85762179015e4eae44d224b3c3d52f5c",
   "0de20b93bb878d597e59213991465648",
   "6f2a63e78cf8fedce1a4a420a2ff2beb",
   "ca0f8d6f7379cda37e12c5e0f3f5c54d",
   "9dd558926ebcd35569acb6483bc87234",
   "dc843fe4ccf9dae67cd42ef5ab56c192",
   "ad6c4abfa259d30639ad3aff6634b4d5",
   "5ce82490280f73dbed939b21d8816f1a",
   "5837d47e96ed110e43b04f1471e5fb8d",
   "8902cb7897ef1c254612bfaf04f49ba0",
   "f850b80a9b485594a1c4606c60ef0cd5",
   "d961b93ad91e3f78260384fedee5f6cf",
   "2f43b42fd833d1e77420a8dae7419000",
   "7af581a9289bcff81a759a5c77488a77",
   "1a9ec499764609fe5f4f1bb9b2d7433e",
   "de62f8bdcb45616298c87873c3b4c9aa",
   "0de20b93bb878d597e59213991465648",
   "787e3523b121102006754f286cc479c2",
   "2f43b42fd833d1e77420a8dae7419000",
   "5695754c4241ac33308411ac91d859a3",
   "1c02f271d10e0439bc84f405740c3ada",
   "90d77b411bc94e9518224f8a3893aa91",
   "a9784df44881c440dd4ebca870785559"
  ],
  "kernelspec": {
   "display_name": "Python 3",
   "language": "python",
   "name": "python3"
  },
  "language_info": {
   "codemirror_mode": {
    "name": "ipython",
    "version": 3
   },
   "file_extension": ".py",
   "mimetype": "text/x-python",
   "name": "python",
   "nbconvert_exporter": "python",
   "pygments_lexer": "ipython3",
   "version": "3.6.0"
  },
  "number_of_pagebreaks": 4
 },
 "nbformat": 4,
 "nbformat_minor": 1
}
